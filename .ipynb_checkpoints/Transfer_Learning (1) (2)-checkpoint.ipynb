{
 "cells": [
  {
   "cell_type": "code",
   "execution_count": 1,
   "metadata": {
    "colab": {
     "base_uri": "https://localhost:8080/",
     "height": 34
    },
    "colab_type": "code",
    "id": "9XGhEYxHkbRq",
    "outputId": "ae6926e6-fdf8-4c4d-8f2b-02e671643296"
   },
   "outputs": [
    {
     "name": "stderr",
     "output_type": "stream",
     "text": [
      "Using TensorFlow backend.\n"
     ]
    }
   ],
   "source": [
    "import PIL\n",
    "import pandas as pd\n",
    "import numpy as np\n",
    "import os\n",
    "import keras\n",
    "import matplotlib.pyplot as plt\n",
    "from keras.layers import Dense,GlobalAveragePooling2D,Input,Conv2D,MaxPooling2D,Dropout\n",
    "from keras.applications import MobileNet\n",
    "from keras.preprocessing import image\n",
    "from keras.applications.mobilenet import preprocess_input\n",
    "from keras.preprocessing.image import ImageDataGenerator\n",
    "from keras.models import Model\n",
    "from keras.optimizers import Adam\n",
    "from keras.models import Sequential"
   ]
  },
  {
   "cell_type": "code",
   "execution_count": 2,
   "metadata": {
    "colab": {
     "base_uri": "https://localhost:8080/",
     "height": 136
    },
    "colab_type": "code",
    "id": "-G17kVoXkhLi",
    "outputId": "baab2612-cee0-46fa-d001-ff0502501bea"
   },
   "outputs": [
    {
     "name": "stdout",
     "output_type": "stream",
     "text": [
      "WARNING:tensorflow:From /sysroot/home/tarun/anaconda3/lib/python3.7/site-packages/tensorflow/python/framework/op_def_library.py:263: colocate_with (from tensorflow.python.framework.ops) is deprecated and will be removed in a future version.\n",
      "Instructions for updating:\n",
      "Colocations handled automatically by placer.\n"
     ]
    }
   ],
   "source": [
    "model = Sequential()\n",
    "model.add(Conv2D(32, (3, 3), activation='relu', input_shape=(224, 224, 1)))\n",
    "model.add(Conv2D(32,(3,3),activation = 'relu'))\n",
    "model.add(MaxPooling2D(pool_size=(2, 2)))\n",
    "model.add(Conv2D(64,(3,3),activation = 'relu'))\n",
    "model.add(keras.layers.Flatten())\n",
    "model.add(Dense(128,activation = 'relu'))\n",
    "model.add(Dense(1,activation = 'sigmoid'))"
   ]
  },
  {
   "cell_type": "code",
   "execution_count": 72,
   "metadata": {
    "colab": {},
    "colab_type": "code",
    "id": "R9INumO_kqLZ"
   },
   "outputs": [],
   "source": [
    "#model=Model(inputs=base_model.input,outputs=preds)"
   ]
  },
  {
   "cell_type": "code",
   "execution_count": 73,
   "metadata": {
    "colab": {},
    "colab_type": "code",
    "id": "4c9FnfM3ksr5"
   },
   "outputs": [],
   "source": [
    "# for layer in model.layers[:20]:\n",
    "#     layer.trainable=False\n",
    "# for layer in model.layers[20:]:\n",
    "#     layer.trainable=True"
   ]
  },
  {
   "cell_type": "code",
   "execution_count": 4,
   "metadata": {
    "colab": {},
    "colab_type": "code",
    "id": "R99OTrc_oYuR"
   },
   "outputs": [],
   "source": [
    "import os\n",
    "import pandas as pd\n",
    "import formatter as fm\n",
    "train_positive=os.listdir(os.getcwd()+r\"/pneumonia/chest-xray-pneumonia/chest_xray/train/PNEUMONIA\")\n",
    "#df = pd.read_csv(\"pneumonia\",engine=\"python\")\n",
    "#preprocess_input, test_data = fm(df)\n",
    "l=[]\n",
    "for file in train_positive:\n",
    "    if file[-5:]=='.jpeg':\n",
    "        l.append(file)\n",
    "from PIL import Image"
   ]
  },
  {
   "cell_type": "code",
   "execution_count": 5,
   "metadata": {},
   "outputs": [],
   "source": [
    "len1 = len(l)//2"
   ]
  },
  {
   "cell_type": "code",
   "execution_count": 6,
   "metadata": {},
   "outputs": [
    {
     "name": "stdout",
     "output_type": "stream",
     "text": [
      "1793\n"
     ]
    }
   ],
   "source": [
    "for i,j in enumerate(l[:len(l)//2]):\n",
    "    im=Image.open(os.getcwd()+r\"/pneumonia/chest-xray-pneumonia/chest_xray/train/PNEUMONIA\"+r\"/\"+j)\n",
    "    im=im.resize((224,224))\n",
    "    if(len(np.asarray(im).shape)!=2):\n",
    "        len1-=1\n",
    "   # myImgs[i,:,:]=np.asarray(im)\n",
    "print(len1)   \n",
    "#myImgs=myImgs.reshape((myImgs.shape[0],myImgs.shape[1],myImgs.shape[2],1))"
   ]
  },
  {
   "cell_type": "code",
   "execution_count": 7,
   "metadata": {},
   "outputs": [],
   "source": [
    "_count = 0\n",
    "myImgs = np.zeros((len1,224,224),\"int16\")\n",
    "for i,j in enumerate(l[:len(l)//2]):\n",
    "    im=Image.open(os.getcwd()+r\"/pneumonia/chest-xray-pneumonia/chest_xray/train/PNEUMONIA\"+r\"/\"+j)\n",
    "    im=im.resize((224,224))\n",
    "    if(len(np.asarray(im).shape)==2):\n",
    "        myImgs[_count,:,:]=np.asarray(im)\n",
    "        _count +=1\n",
    "        \n",
    "myImgs=myImgs.reshape((myImgs.shape[0],myImgs.shape[1],myImgs.shape[2],1))"
   ]
  },
  {
   "cell_type": "code",
   "execution_count": 8,
   "metadata": {},
   "outputs": [
    {
     "name": "stdout",
     "output_type": "stream",
     "text": [
      "670\n"
     ]
    }
   ],
   "source": [
    "\n",
    "train_negative=os.listdir(os.getcwd()+r\"/pneumonia/chest-xray-pneumonia/chest_xray/train/NORMAL\")\n",
    "#df = pd.read_csv(\"pneumonia\",engine=\"python\")\n",
    "#preprocess_input, test_data = fm(df)\n",
    "l=[]\n",
    "for file in train_negative:\n",
    "    if file[-5:]=='.jpeg':\n",
    "        l.append(file)\n",
    "from PIL import Image\n",
    "print(len(l)//2)\n"
   ]
  },
  {
   "cell_type": "code",
   "execution_count": 9,
   "metadata": {},
   "outputs": [],
   "source": [
    "len2 = len(l)//2"
   ]
  },
  {
   "cell_type": "code",
   "execution_count": 10,
   "metadata": {},
   "outputs": [
    {
     "name": "stdout",
     "output_type": "stream",
     "text": [
      "670\n"
     ]
    }
   ],
   "source": [
    "for i,j in enumerate(l[:len(l)//2]):\n",
    "    im=Image.open(os.getcwd()+r\"/pneumonia/chest-xray-pneumonia/chest_xray/train/NORMAL\"+r\"/\"+j)\n",
    "    im=im.resize((224,224))\n",
    "    if(len(np.asarray(im).shape)!=2):\n",
    "        len2-=1\n",
    "   # myImgs[i,:,:]=np.asarray(im)\n",
    "print(len2)   \n",
    "#myImgs=myImgs.reshape((myImgs.shape[0],myImgs.shape[1],myImgs.shape[2],1))"
   ]
  },
  {
   "cell_type": "code",
   "execution_count": 11,
   "metadata": {},
   "outputs": [],
   "source": [
    "_count = 0\n",
    "myImgs2 = np.zeros((len2,224,224),\"int32\")\n",
    "for i,j in enumerate(l[:len(l)//2]):\n",
    "    im=Image.open(os.getcwd()+r\"/pneumonia/chest-xray-pneumonia/chest_xray/train/NORMAL\"+r\"/\"+j)\n",
    "    im=im.resize((224,224))\n",
    "    if(len(np.asarray(im).shape)==2):\n",
    "        myImgs2[_count,:,:]=np.asarray(im)\n",
    "        _count +=1\n",
    "        \n",
    "myImgs2=myImgs2.reshape((myImgs2.shape[0],myImgs2.shape[1],myImgs2.shape[2],1))"
   ]
  },
  {
   "cell_type": "code",
   "execution_count": 16,
   "metadata": {},
   "outputs": [
    {
     "data": {
      "text/plain": [
       "((1825, 224, 224, 1), (670, 224, 224, 1))"
      ]
     },
     "execution_count": 16,
     "metadata": {},
     "output_type": "execute_result"
    }
   ],
   "source": [
    "myImgs.shape,myImgs2.shape"
   ]
  },
  {
   "cell_type": "code",
   "execution_count": 12,
   "metadata": {},
   "outputs": [],
   "source": [
    "myImgs3=np.concatenate((myImgs,myImgs2),axis=0)"
   ]
  },
  {
   "cell_type": "code",
   "execution_count": 13,
   "metadata": {},
   "outputs": [],
   "source": [
    "del(myImgs,myImgs2)"
   ]
  },
  {
   "cell_type": "code",
   "execution_count": 14,
   "metadata": {},
   "outputs": [],
   "source": [
    "labels=np.zeros((myImgs3.shape[0],1))"
   ]
  },
  {
   "cell_type": "code",
   "execution_count": 15,
   "metadata": {},
   "outputs": [],
   "source": [
    "labels[:len1]=1"
   ]
  },
  {
   "cell_type": "code",
   "execution_count": 16,
   "metadata": {},
   "outputs": [],
   "source": [
    "from sklearn.model_selection import train_test_split\n",
    "labels[len1:]=0\n",
    "x_train,x_test,y_train,y_test=train_test_split(myImgs3,labels)"
   ]
  },
  {
   "cell_type": "code",
   "execution_count": 17,
   "metadata": {},
   "outputs": [
    {
     "data": {
      "text/plain": [
       "((1847, 224, 224, 1), (1847, 1))"
      ]
     },
     "execution_count": 17,
     "metadata": {},
     "output_type": "execute_result"
    }
   ],
   "source": [
    "x_train.shape, y_train.shape"
   ]
  },
  {
   "cell_type": "code",
   "execution_count": 18,
   "metadata": {},
   "outputs": [],
   "source": [
    "del myImgs3"
   ]
  },
  {
   "cell_type": "code",
   "execution_count": 20,
   "metadata": {
    "colab": {},
    "colab_type": "code",
    "id": "nNvVDZTfkx8B"
   },
   "outputs": [
    {
     "name": "stdout",
     "output_type": "stream",
     "text": [
      "Train on 1847 samples, validate on 616 samples\n",
      "Epoch 1/2\n",
      "1847/1847 [==============================] - 1097s 594ms/step - loss: 4.3589 - acc: 0.7266 - val_loss: 4.2703 - val_acc: 0.7321\n",
      "Epoch 2/2\n",
      "1847/1847 [==============================] - 1236s 669ms/step - loss: 4.3589 - acc: 0.7266 - val_loss: 4.2703 - val_acc: 0.7321\n"
     ]
    },
    {
     "data": {
      "text/plain": [
       "<keras.callbacks.History at 0x7f8740145be0>"
      ]
     },
     "execution_count": 20,
     "metadata": {},
     "output_type": "execute_result"
    }
   ],
   "source": [
    " #included in our dependencies\n",
    "#train_datagen.fit(x_train)\n",
    "\n",
    "# train_generator=train_datagen.flow_from_directory('./train/', # this is where you specify the path to the main data folder\n",
    "#                                                  target_size=(224,224),\n",
    "#                                                  color_mode='rgb',\n",
    "#                                                  batch_size=32,\n",
    "#                                                  class_mode='categorical',\n",
    "#                                                  shuffle=True)\n",
    "\n",
    "model.compile(optimizer='Adam',loss='binary_crossentropy',metrics=['accuracy'])\n",
    "# Adam optimizer\n",
    "# loss function will be categorical cross entropy\n",
    "# evaluation metric will be accuracy\n",
    "\n",
    "#step_size_train=train_generator.n//train_generator.batch_size\n",
    "model.fit(x_train,y_train,batch_size = 2, epochs = 2,validation_data=(x_test,y_test))"
   ]
  },
  {
   "cell_type": "code",
   "execution_count": 35,
   "metadata": {},
   "outputs": [
    {
     "data": {
      "text/plain": [
       "(1955, 80, 60, 1)"
      ]
     },
     "execution_count": 35,
     "metadata": {},
     "output_type": "execute_result"
    }
   ],
   "source": [
    "x_train.shape"
   ]
  },
  {
   "cell_type": "code",
   "execution_count": null,
   "metadata": {},
   "outputs": [],
   "source": []
  },
  {
   "cell_type": "markdown",
   "metadata": {
    "colab_type": "text",
    "id": "AvO6yOp-o7uQ"
   },
   "source": [
    "\n"
   ]
  },
  {
   "cell_type": "markdown",
   "metadata": {
    "colab_type": "text",
    "id": "tnJHEADQqgEB"
   },
   "source": [
    "# Download the weights! "
   ]
  },
  {
   "cell_type": "code",
   "execution_count": 0,
   "metadata": {
    "colab": {},
    "colab_type": "code",
    "id": "0dQjZ5vqqfOZ"
   },
   "outputs": [],
   "source": [
    "!pip install -U -q PyDrive\n",
    "from pydrive.auth import GoogleAuth\n",
    "from pydrive.drive import GoogleDrive\n",
    "from google.colab import auth\n",
    "from oauth2client.client import GoogleCredentials\n",
    "\n",
    "# 1. Authenticate and create the PyDrive client.\n",
    "auth.authenticate_user()\n",
    "gauth = GoogleAuth()\n",
    "gauth.credentials = GoogleCredentials.get_application_default()\n",
    "drive = GoogleDrive(gauth)\n",
    "\n",
    "# 2. Save Keras Model or weights on google drive\n",
    "\n",
    "# create on Colab directory\n",
    "model.save('model.h5')    \n",
    "model_file = drive.CreateFile({'title' : 'model.h5'})\n",
    "model_file.SetContentFile('model.h5')\n",
    "model_file.Upload()\n",
    "\n",
    "# download to google drive\n",
    "drive.CreateFile({'id': model_file.get('id')})"
   ]
  }
 ],
 "metadata": {
  "colab": {
   "name": "Transfer_Learning.ipynb",
   "provenance": [],
   "version": "0.3.2"
  },
  "kernelspec": {
   "display_name": "Python 3",
   "language": "python",
   "name": "python3"
  },
  "language_info": {
   "codemirror_mode": {
    "name": "ipython",
    "version": 3
   },
   "file_extension": ".py",
   "mimetype": "text/x-python",
   "name": "python",
   "nbconvert_exporter": "python",
   "pygments_lexer": "ipython3",
   "version": "3.7.0"
  }
 },
 "nbformat": 4,
 "nbformat_minor": 1
}
