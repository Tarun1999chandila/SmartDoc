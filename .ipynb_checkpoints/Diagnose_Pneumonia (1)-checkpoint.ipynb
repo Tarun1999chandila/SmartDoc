{
 "cells": [
  {
   "cell_type": "code",
   "execution_count": 4,
   "metadata": {
    "_kg_hide-input": true,
    "_kg_hide-output": false,
    "_uuid": "ad8067cc8763f6a885ae10d47209c8d6b64ee71d"
   },
   "outputs": [
    {
     "name": "stderr",
     "output_type": "stream",
     "text": [
      "Using TensorFlow backend.\n"
     ]
    }
   ],
   "source": [
    "import pandas as pd\n",
    "import numpy as np\n",
    "import matplotlib.pyplot as plt\n",
    "import seaborn as sns\n",
    "import cv2\n",
    "import os\n",
    "import random\n",
    "from keras.models import Sequential\n",
    "from keras.layers import Conv2D,Dense,Flatten,Dropout,MaxPooling2D\n",
    "from keras.preprocessing.image import ImageDataGenerator\n",
    "from keras.callbacks import ReduceLROnPlateau\n",
    "\n",
    "%matplotlib inline"
   ]
  },
  {
   "cell_type": "code",
   "execution_count": 5,
   "metadata": {
    "_uuid": "74685969d03262a3c32f861f66bfb6dced942991"
   },
   "outputs": [],
   "source": [
    "total_images_train_normal = os.listdir(r\"C:\\Users\\User\\Downloads\\chest_xray\\train\\NORMAL\")\n",
    "total_images_train_pneumonia = os.listdir(r\"C:\\Users\\User\\Downloads\\chest_xray\\train\\PNEUMONIA\")"
   ]
  },
  {
   "cell_type": "code",
   "execution_count": 18,
   "metadata": {
    "_uuid": "42378e75c3a5c20f67129514f6e1205bee2a9934"
   },
   "outputs": [],
   "source": [
    "image_height = 150\n",
    "image_width = 150\n",
    "batch_size = 32\n",
    "no_of_epochs  = 10"
   ]
  },
  {
   "cell_type": "code",
   "execution_count": 10,
   "metadata": {
    "_uuid": "444919bf103234d0313fbf050780a5bdc534eb03"
   },
   "outputs": [],
   "source": [
    "model = Sequential()\n",
    "model.add(Conv2D(32,(3,3),input_shape=(image_height,image_width,3),activation='relu'))\n",
    "model.add(Conv2D(32,(3,3),activation='relu'))\n",
    "model.add(MaxPooling2D(pool_size=(2,2)))\n",
    "model.add(Dropout(0.2))\n",
    "model.add(Conv2D(64,(3,3),activation='relu'))\n",
    "model.add(Conv2D(64,(3,3),activation='relu'))\n",
    "model.add(MaxPooling2D(pool_size=(2,2)))\n",
    "model.add(Dropout(0.2))\n",
    "model.add(Conv2D(128,(3,3),activation='relu'))\n",
    "model.add(Conv2D(128,(3,3),activation='relu'))\n",
    "model.add(MaxPooling2D(pool_size=(2,2)))\n",
    "model.add(Dropout(0.2))\n",
    "model.add(Flatten())\n",
    "model.add(Dense(units=128,activation='relu'))\n",
    "model.add(Dropout(0.2))\n",
    "model.add(Dense(units=1,activation='sigmoid'))\n",
    "model.compile(optimizer='adam', loss='binary_crossentropy', metrics=['accuracy'])"
   ]
  },
  {
   "cell_type": "code",
   "execution_count": 11,
   "metadata": {
    "_uuid": "a5acc28340713333a128f2d4fe38a90cde089d0f"
   },
   "outputs": [
    {
     "name": "stdout",
     "output_type": "stream",
     "text": [
      "_________________________________________________________________\n",
      "Layer (type)                 Output Shape              Param #   \n",
      "=================================================================\n",
      "conv2d_1 (Conv2D)            (None, 148, 148, 32)      896       \n",
      "_________________________________________________________________\n",
      "conv2d_2 (Conv2D)            (None, 146, 146, 32)      9248      \n",
      "_________________________________________________________________\n",
      "max_pooling2d_1 (MaxPooling2 (None, 73, 73, 32)        0         \n",
      "_________________________________________________________________\n",
      "dropout_1 (Dropout)          (None, 73, 73, 32)        0         \n",
      "_________________________________________________________________\n",
      "conv2d_3 (Conv2D)            (None, 71, 71, 64)        18496     \n",
      "_________________________________________________________________\n",
      "conv2d_4 (Conv2D)            (None, 69, 69, 64)        36928     \n",
      "_________________________________________________________________\n",
      "max_pooling2d_2 (MaxPooling2 (None, 34, 34, 64)        0         \n",
      "_________________________________________________________________\n",
      "dropout_2 (Dropout)          (None, 34, 34, 64)        0         \n",
      "_________________________________________________________________\n",
      "conv2d_5 (Conv2D)            (None, 32, 32, 128)       73856     \n",
      "_________________________________________________________________\n",
      "conv2d_6 (Conv2D)            (None, 30, 30, 128)       147584    \n",
      "_________________________________________________________________\n",
      "max_pooling2d_3 (MaxPooling2 (None, 15, 15, 128)       0         \n",
      "_________________________________________________________________\n",
      "dropout_3 (Dropout)          (None, 15, 15, 128)       0         \n",
      "_________________________________________________________________\n",
      "flatten_1 (Flatten)          (None, 28800)             0         \n",
      "_________________________________________________________________\n",
      "dense_1 (Dense)              (None, 128)               3686528   \n",
      "_________________________________________________________________\n",
      "dropout_4 (Dropout)          (None, 128)               0         \n",
      "_________________________________________________________________\n",
      "dense_2 (Dense)              (None, 1)                 129       \n",
      "=================================================================\n",
      "Total params: 3,973,665\n",
      "Trainable params: 3,973,665\n",
      "Non-trainable params: 0\n",
      "_________________________________________________________________\n"
     ]
    }
   ],
   "source": [
    "model.summary()"
   ]
  },
  {
   "cell_type": "code",
   "execution_count": 12,
   "metadata": {
    "_uuid": "5f97c13409a227b7762f94a0f7646d84c8833f85"
   },
   "outputs": [],
   "source": [
    "train_datagen = ImageDataGenerator(rescale=1./255,\n",
    "                                   rotation_range=15,\n",
    "                                   shear_range=0.2,\n",
    "                                   zoom_range=0.2\n",
    "                                   )\n",
    "\n",
    "test_datagen = ImageDataGenerator(rescale=1./255)"
   ]
  },
  {
   "cell_type": "code",
   "execution_count": 15,
   "metadata": {
    "_uuid": "df096dd2cc94c3ebbaba129ce0a711da113ac7ae"
   },
   "outputs": [
    {
     "name": "stdout",
     "output_type": "stream",
     "text": [
      "Found 5216 images belonging to 2 classes.\n",
      "Found 624 images belonging to 2 classes.\n",
      "Found 16 images belonging to 2 classes.\n"
     ]
    }
   ],
   "source": [
    "training_set = train_datagen.flow_from_directory(\"C:\\\\Users\\\\User\\\\Downloads\\\\chest_xray\\\\train\\\\\",\n",
    "                                                 target_size=(image_width, image_height),\n",
    "                                                 batch_size=batch_size,\n",
    "                                                 class_mode='binary')\n",
    "\n",
    "test_set = test_datagen.flow_from_directory(r\"C:\\\\Users\\\\User\\\\Downloads\\\\chest_xray\\\\test\",\n",
    "                                            target_size=(image_width, image_height),\n",
    "                                            batch_size=batch_size,\n",
    "                                            class_mode='binary')\n",
    "\n",
    "# Updated part --->\n",
    "val_set = test_datagen.flow_from_directory(r\"C:\\\\Users\\\\User\\\\Downloads\\\\chest_xray\\\\val\",\n",
    "                                            target_size=(image_width, image_height),\n",
    "                                            batch_size=1,\n",
    "                                            shuffle=False,\n",
    "                                            class_mode='binary')"
   ]
  },
  {
   "cell_type": "code",
   "execution_count": 16,
   "metadata": {
    "_uuid": "87b05a24cdef21aa5acd4124ec6d9f63e7135c39"
   },
   "outputs": [],
   "source": [
    "reduce_learning_rate = ReduceLROnPlateau(monitor='loss',\n",
    "                                         factor=0.1,\n",
    "                                         patience=2,\n",
    "                                         cooldown=2,\n",
    "                                         min_lr=0.00001,\n",
    "                                         verbose=1)\n",
    "\n",
    "callbacks = [reduce_learning_rate]"
   ]
  },
  {
   "cell_type": "code",
   "execution_count": 19,
   "metadata": {
    "_uuid": "3a492a61c6f3bb3506337aba4dc9d86a62da62dc"
   },
   "outputs": [
    {
     "name": "stdout",
     "output_type": "stream",
     "text": [
      "Epoch 1/10\n",
      "163/163 [==============================] - 23s 143ms/step - loss: 0.2743 - acc: 0.8816 - val_loss: 0.4432 - val_acc: 0.7789\n",
      "Epoch 2/10\n",
      "163/163 [==============================] - 23s 139ms/step - loss: 0.2625 - acc: 0.8982 - val_loss: 0.2918 - val_acc: 0.8789\n",
      "Epoch 3/10\n",
      "163/163 [==============================] - 23s 140ms/step - loss: 0.2497 - acc: 0.8883 - val_loss: 0.2923 - val_acc: 0.8696\n",
      "Epoch 4/10\n",
      "163/163 [==============================] - 23s 138ms/step - loss: 0.2482 - acc: 0.9025 - val_loss: 0.2549 - val_acc: 0.8895\n",
      "Epoch 5/10\n",
      "163/163 [==============================] - 23s 140ms/step - loss: 0.2228 - acc: 0.9012 - val_loss: 0.3835 - val_acc: 0.8684\n",
      "Epoch 6/10\n",
      "163/163 [==============================] - 22s 138ms/step - loss: 0.2229 - acc: 0.9084 - val_loss: 0.3334 - val_acc: 0.8789\n",
      "Epoch 7/10\n",
      "163/163 [==============================] - 23s 140ms/step - loss: 0.2230 - acc: 0.9153 - val_loss: 0.4129 - val_acc: 0.8478\n",
      "Epoch 8/10\n",
      "163/163 [==============================] - 24s 145ms/step - loss: 0.2182 - acc: 0.9104 - val_loss: 0.3511 - val_acc: 0.8789\n",
      "Epoch 9/10\n",
      "163/163 [==============================] - 24s 145ms/step - loss: 0.1851 - acc: 0.9268 - val_loss: 0.2448 - val_acc: 0.8789\n",
      "Epoch 10/10\n",
      "163/163 [==============================] - 24s 148ms/step - loss: 0.2218 - acc: 0.9117 - val_loss: 0.3033 - val_acc: 0.8804\n"
     ]
    }
   ],
   "source": [
    "# history = model.fit_generator(training_set,\n",
    "#                     steps_per_epoch=5216//batch_size,\n",
    "#                     epochs=no_of_epochs,\n",
    "#                     validation_data=test_set,\n",
    "#                     validation_steps=624//batch_size,\n",
    "#                     callbacks=callbacks\n",
    "#                    )\n",
    "\n",
    "#run if u want to train"
   ]
  },
  {
   "cell_type": "code",
   "execution_count": 27,
   "metadata": {},
   "outputs": [],
   "source": [
    "#model.save_weights('model_weights.h5')"
   ]
  },
  {
   "cell_type": "code",
   "execution_count": 28,
   "metadata": {},
   "outputs": [],
   "source": [
    "model.load_weights('model_weights.h5') #pretrained model"
   ]
  },
  {
   "cell_type": "code",
   "execution_count": null,
   "metadata": {},
   "outputs": [],
   "source": []
  },
  {
   "cell_type": "code",
   "execution_count": null,
   "metadata": {},
   "outputs": [],
   "source": []
  },
  {
   "cell_type": "code",
   "execution_count": null,
   "metadata": {},
   "outputs": [],
   "source": []
  },
  {
   "cell_type": "code",
   "execution_count": null,
   "metadata": {},
   "outputs": [],
   "source": []
  },
  {
   "cell_type": "code",
   "execution_count": null,
   "metadata": {},
   "outputs": [],
   "source": []
  },
  {
   "cell_type": "code",
   "execution_count": null,
   "metadata": {},
   "outputs": [],
   "source": []
  },
  {
   "cell_type": "code",
   "execution_count": null,
   "metadata": {},
   "outputs": [],
   "source": []
  },
  {
   "cell_type": "code",
   "execution_count": 20,
   "metadata": {
    "_uuid": "b7fadf1d5649a40a607a2de2979dcd309d89b7cf"
   },
   "outputs": [
    {
     "name": "stdout",
     "output_type": "stream",
     "text": [
      "{'NORMAL': 0, 'PNEUMONIA': 1}\n"
     ]
    }
   ],
   "source": [
    "\n",
    "print(test_set.class_indices)"
   ]
  },
  {
   "cell_type": "code",
   "execution_count": 32,
   "metadata": {},
   "outputs": [],
   "source": [
    "preds = model.predict_generator(test_set, steps = 32)"
   ]
  },
  {
   "cell_type": "code",
   "execution_count": 34,
   "metadata": {},
   "outputs": [],
   "source": [
    "from sklearn.metrics import accuracy_score, f1_score, precision_score, recall_score"
   ]
  },
  {
   "cell_type": "code",
   "execution_count": 41,
   "metadata": {},
   "outputs": [],
   "source": [
    "predsBin = []"
   ]
  },
  {
   "cell_type": "code",
   "execution_count": 42,
   "metadata": {},
   "outputs": [],
   "source": [
    "for x in preds:\n",
    "    if(x>=0.5):\n",
    "        predsBin.append(1)\n",
    "    else:\n",
    "        predsBin.append(0)"
   ]
  },
  {
   "cell_type": "code",
   "execution_count": 43,
   "metadata": {},
   "outputs": [
    {
     "data": {
      "text/plain": [
       "320"
      ]
     },
     "execution_count": 43,
     "metadata": {},
     "output_type": "execute_result"
    }
   ],
   "source": [
    "len(predsBin)"
   ]
  },
  {
   "cell_type": "code",
   "execution_count": 45,
   "metadata": {},
   "outputs": [
    {
     "data": {
      "text/plain": [
       "[0.2969681000823428, 0.8853503139155685]"
      ]
     },
     "execution_count": 45,
     "metadata": {},
     "output_type": "execute_result"
    }
   ],
   "source": [
    "model.evaluate_generator(test_set, steps = 32)"
   ]
  },
  {
   "cell_type": "code",
   "execution_count": null,
   "metadata": {},
   "outputs": [],
   "source": [
    "#loss is 0.29 accuracy is 0.88"
   ]
  },
  {
   "cell_type": "code",
   "execution_count": null,
   "metadata": {},
   "outputs": [],
   "source": []
  },
  {
   "cell_type": "code",
   "execution_count": null,
   "metadata": {},
   "outputs": [],
   "source": []
  },
  {
   "cell_type": "code",
   "execution_count": null,
   "metadata": {},
   "outputs": [],
   "source": []
  },
  {
   "cell_type": "code",
   "execution_count": null,
   "metadata": {},
   "outputs": [],
   "source": []
  },
  {
   "cell_type": "code",
   "execution_count": 140,
   "metadata": {},
   "outputs": [],
   "source": [
    "train_positive=os.listdir(\"C:\\\\Users\\\\User\\\\Downloads\\\\chest_xray\\\\test\\\\PNEUMONIA\\\\\")\n",
    "#df = pd.read_csv(\"pneumonia\",engine=\"python\")\n",
    "#preprocess_input, test_data = fm(df)\n",
    "l=[]\n",
    "for file in train_positive:\n",
    "    if file[-5:]=='.jpeg':\n",
    "        l.append(file)"
   ]
  },
  {
   "cell_type": "code",
   "execution_count": 141,
   "metadata": {},
   "outputs": [],
   "source": [
    "myArr = np.zeros((len(l),150,150,3))\n",
    "for x,img in enumerate(l):\n",
    "    im = cv2.imread(\"C:\\\\Users\\\\User\\\\Downloads\\\\chest_xray\\\\test\\\\PNEUMONIA\\\\\"+str(img))\n",
    "    myImg = cv2.resize(im,(150,150))\n",
    "    myImg = myImg/255.\n",
    "    myArr[x,:,:,:] = myImg\n",
    "    "
   ]
  },
  {
   "cell_type": "code",
   "execution_count": 142,
   "metadata": {},
   "outputs": [],
   "source": [
    "PREDS = model.predict(myArr)"
   ]
  },
  {
   "cell_type": "code",
   "execution_count": 143,
   "metadata": {},
   "outputs": [
    {
     "data": {
      "text/plain": [
       "array([[0.6338722 ],\n",
       "       [0.9816753 ],\n",
       "       [0.9999536 ],\n",
       "       [0.9991848 ],\n",
       "       [0.9998455 ],\n",
       "       [0.99928755],\n",
       "       [0.99999595],\n",
       "       [0.9972518 ],\n",
       "       [0.93345934],\n",
       "       [0.9992986 ],\n",
       "       [0.99673945],\n",
       "       [0.93970454],\n",
       "       [0.99995387],\n",
       "       [0.999469  ],\n",
       "       [0.8581284 ],\n",
       "       [0.9998287 ],\n",
       "       [0.9995919 ],\n",
       "       [0.9999895 ],\n",
       "       [0.9918881 ],\n",
       "       [0.99998593],\n",
       "       [0.9948598 ],\n",
       "       [0.99995446],\n",
       "       [0.9997658 ],\n",
       "       [0.99971634],\n",
       "       [0.99950767],\n",
       "       [0.99872106],\n",
       "       [0.99962735],\n",
       "       [0.99996674],\n",
       "       [0.99999785],\n",
       "       [0.99883014],\n",
       "       [0.9764281 ],\n",
       "       [0.99970156],\n",
       "       [0.9999789 ],\n",
       "       [0.9999937 ],\n",
       "       [0.9999051 ],\n",
       "       [0.9997155 ],\n",
       "       [0.9997819 ],\n",
       "       [0.9999819 ],\n",
       "       [0.9998908 ],\n",
       "       [0.99997246],\n",
       "       [0.99989784],\n",
       "       [0.9997836 ],\n",
       "       [0.9180758 ],\n",
       "       [0.99848783],\n",
       "       [0.9999887 ],\n",
       "       [0.9985013 ],\n",
       "       [0.99442965],\n",
       "       [0.9972698 ],\n",
       "       [0.9458814 ],\n",
       "       [0.99081415],\n",
       "       [0.95083785],\n",
       "       [0.9997882 ],\n",
       "       [0.99996483],\n",
       "       [0.96006024],\n",
       "       [0.9876078 ],\n",
       "       [0.9861687 ],\n",
       "       [0.99944943],\n",
       "       [0.9999924 ],\n",
       "       [0.9999893 ],\n",
       "       [0.97627276],\n",
       "       [0.99912554],\n",
       "       [0.9994708 ],\n",
       "       [0.99993587],\n",
       "       [0.99992776],\n",
       "       [0.97117627],\n",
       "       [0.9647483 ],\n",
       "       [0.9999863 ],\n",
       "       [0.9988617 ],\n",
       "       [0.9982541 ],\n",
       "       [0.9999889 ],\n",
       "       [0.9999763 ],\n",
       "       [0.99941564],\n",
       "       [0.99961853],\n",
       "       [0.9986326 ],\n",
       "       [0.9999765 ],\n",
       "       [0.9737212 ],\n",
       "       [0.99638534],\n",
       "       [0.96980035],\n",
       "       [0.9999994 ],\n",
       "       [0.9999976 ],\n",
       "       [0.9999324 ],\n",
       "       [0.9998635 ],\n",
       "       [0.9999279 ],\n",
       "       [0.9381792 ],\n",
       "       [0.9999503 ],\n",
       "       [0.9999274 ],\n",
       "       [0.9999274 ],\n",
       "       [0.9941398 ],\n",
       "       [0.94008565],\n",
       "       [0.99916005],\n",
       "       [0.99925405],\n",
       "       [0.99955827],\n",
       "       [0.9980848 ],\n",
       "       [0.9978138 ],\n",
       "       [0.9997466 ],\n",
       "       [0.9999877 ],\n",
       "       [0.9999324 ],\n",
       "       [0.9976434 ],\n",
       "       [0.999998  ],\n",
       "       [0.9996338 ],\n",
       "       [0.9527981 ],\n",
       "       [0.9241063 ],\n",
       "       [0.9649312 ],\n",
       "       [0.9672317 ],\n",
       "       [0.9672317 ],\n",
       "       [0.9998684 ],\n",
       "       [0.9999063 ],\n",
       "       [0.93007946],\n",
       "       [0.99914885],\n",
       "       [0.998988  ],\n",
       "       [0.9998976 ],\n",
       "       [0.95579123],\n",
       "       [0.99646616],\n",
       "       [0.70087737],\n",
       "       [0.98926836],\n",
       "       [0.9996234 ],\n",
       "       [0.9999993 ],\n",
       "       [0.9999993 ],\n",
       "       [0.9997944 ],\n",
       "       [0.9998342 ],\n",
       "       [0.9999883 ],\n",
       "       [0.94894075],\n",
       "       [0.72075105],\n",
       "       [0.99121594],\n",
       "       [0.999864  ],\n",
       "       [0.99936455],\n",
       "       [0.9997522 ],\n",
       "       [0.99996984],\n",
       "       [0.9999895 ],\n",
       "       [0.99959916],\n",
       "       [0.99940157],\n",
       "       [0.9997465 ],\n",
       "       [0.9961153 ],\n",
       "       [0.99772245],\n",
       "       [0.9598314 ],\n",
       "       [0.9999974 ],\n",
       "       [0.99958175],\n",
       "       [0.8431838 ],\n",
       "       [0.9932192 ],\n",
       "       [0.96433914],\n",
       "       [0.99999607],\n",
       "       [0.9991167 ],\n",
       "       [0.9957086 ],\n",
       "       [0.92409194],\n",
       "       [0.95583427],\n",
       "       [0.924647  ],\n",
       "       [0.99955267],\n",
       "       [0.99799037],\n",
       "       [0.8502817 ],\n",
       "       [0.99995124],\n",
       "       [0.99956673],\n",
       "       [0.99997354],\n",
       "       [0.9995552 ],\n",
       "       [0.9999368 ],\n",
       "       [0.5039149 ],\n",
       "       [0.9432831 ],\n",
       "       [0.41597402],\n",
       "       [0.04566541],\n",
       "       [0.9990017 ],\n",
       "       [0.9999217 ],\n",
       "       [0.9998234 ],\n",
       "       [0.9993686 ],\n",
       "       [0.99997854],\n",
       "       [0.97929037],\n",
       "       [0.9988708 ],\n",
       "       [0.9340644 ],\n",
       "       [0.9999845 ],\n",
       "       [0.9255645 ],\n",
       "       [0.99830997],\n",
       "       [0.99711657],\n",
       "       [0.34796476],\n",
       "       [0.7165685 ],\n",
       "       [0.9606471 ],\n",
       "       [0.99661833],\n",
       "       [0.9932789 ],\n",
       "       [0.8485225 ],\n",
       "       [0.9590286 ],\n",
       "       [0.9705347 ],\n",
       "       [0.9722879 ],\n",
       "       [0.9719429 ],\n",
       "       [0.8275155 ],\n",
       "       [0.99494123],\n",
       "       [0.99953735],\n",
       "       [0.9896082 ],\n",
       "       [0.99741864],\n",
       "       [0.99995077],\n",
       "       [0.9210524 ],\n",
       "       [0.9931726 ],\n",
       "       [0.92298174],\n",
       "       [0.9999044 ],\n",
       "       [0.9104682 ],\n",
       "       [0.99219924],\n",
       "       [0.9992792 ],\n",
       "       [0.99752456],\n",
       "       [0.99934596],\n",
       "       [0.9142877 ],\n",
       "       [0.87376183],\n",
       "       [0.99846053],\n",
       "       [0.9984647 ],\n",
       "       [0.9947738 ],\n",
       "       [0.88782537],\n",
       "       [0.93835   ],\n",
       "       [0.9048735 ],\n",
       "       [0.93363297],\n",
       "       [0.9769488 ],\n",
       "       [0.98140633],\n",
       "       [0.9987676 ],\n",
       "       [0.8443751 ],\n",
       "       [0.99883014],\n",
       "       [0.997294  ],\n",
       "       [0.9991842 ],\n",
       "       [0.9888099 ],\n",
       "       [0.9428764 ],\n",
       "       [0.9894566 ],\n",
       "       [0.95800763],\n",
       "       [0.9992436 ],\n",
       "       [0.9704161 ],\n",
       "       [0.9992211 ],\n",
       "       [0.9992211 ],\n",
       "       [0.9469997 ],\n",
       "       [0.96139514],\n",
       "       [0.9643851 ],\n",
       "       [0.97106385],\n",
       "       [0.9618626 ],\n",
       "       [0.9236892 ],\n",
       "       [0.9383405 ],\n",
       "       [0.99140704],\n",
       "       [0.9916847 ],\n",
       "       [0.9848925 ],\n",
       "       [0.38900542],\n",
       "       [0.9784846 ],\n",
       "       [0.9880205 ],\n",
       "       [0.999629  ],\n",
       "       [0.9312958 ],\n",
       "       [0.9958984 ],\n",
       "       [0.994638  ],\n",
       "       [0.8690075 ],\n",
       "       [0.9988655 ],\n",
       "       [0.99977416],\n",
       "       [0.7128969 ],\n",
       "       [0.9999938 ],\n",
       "       [0.99993205],\n",
       "       [0.9229246 ],\n",
       "       [0.9824906 ],\n",
       "       [0.9932285 ],\n",
       "       [0.90306675],\n",
       "       [0.9998857 ],\n",
       "       [0.99846774],\n",
       "       [0.99995494],\n",
       "       [0.99999547],\n",
       "       [0.9714613 ],\n",
       "       [0.9414762 ],\n",
       "       [0.6310734 ],\n",
       "       [0.9999788 ],\n",
       "       [0.99998736],\n",
       "       [0.9817291 ],\n",
       "       [0.99996376],\n",
       "       [0.9999995 ],\n",
       "       [0.9999541 ],\n",
       "       [0.9999887 ],\n",
       "       [0.68679583],\n",
       "       [0.91775054],\n",
       "       [0.30830657],\n",
       "       [0.97244   ],\n",
       "       [0.91979384],\n",
       "       [0.93757415],\n",
       "       [0.82511055],\n",
       "       [0.99718815],\n",
       "       [0.9944829 ],\n",
       "       [0.68934846],\n",
       "       [0.9194952 ],\n",
       "       [0.93988794],\n",
       "       [0.94249344],\n",
       "       [0.9964265 ],\n",
       "       [0.98909867],\n",
       "       [0.99949384],\n",
       "       [0.98967934],\n",
       "       [0.8162922 ],\n",
       "       [0.997072  ],\n",
       "       [0.995574  ],\n",
       "       [0.94847536],\n",
       "       [0.9852218 ],\n",
       "       [0.9609649 ],\n",
       "       [0.8997647 ],\n",
       "       [0.9892917 ],\n",
       "       [0.7435287 ],\n",
       "       [0.9598782 ],\n",
       "       [0.911556  ],\n",
       "       [0.9944666 ],\n",
       "       [0.99362355],\n",
       "       [0.9610791 ],\n",
       "       [0.9369224 ],\n",
       "       [0.8208393 ],\n",
       "       [0.93762803],\n",
       "       [0.9963909 ],\n",
       "       [0.9414982 ],\n",
       "       [0.7272354 ],\n",
       "       [0.9501437 ],\n",
       "       [0.9885211 ],\n",
       "       [0.99777704],\n",
       "       [0.999724  ],\n",
       "       [0.905586  ],\n",
       "       [0.98984784],\n",
       "       [0.9949144 ],\n",
       "       [0.9925408 ],\n",
       "       [0.9868291 ],\n",
       "       [0.9993093 ],\n",
       "       [0.80959237],\n",
       "       [0.99028355],\n",
       "       [0.9539154 ],\n",
       "       [0.9470006 ],\n",
       "       [0.995414  ],\n",
       "       [0.99963224],\n",
       "       [0.96216744],\n",
       "       [0.9461537 ],\n",
       "       [0.9999329 ],\n",
       "       [0.9886126 ],\n",
       "       [0.970446  ],\n",
       "       [0.99848783],\n",
       "       [0.9617967 ],\n",
       "       [0.9963258 ],\n",
       "       [0.99416083],\n",
       "       [0.98801875],\n",
       "       [0.99747026],\n",
       "       [0.99842036],\n",
       "       [0.9995627 ],\n",
       "       [0.9934011 ],\n",
       "       [0.99833554],\n",
       "       [0.9999635 ],\n",
       "       [0.9987029 ],\n",
       "       [0.99992895],\n",
       "       [0.9957761 ],\n",
       "       [0.937125  ],\n",
       "       [0.5078831 ],\n",
       "       [0.9990239 ],\n",
       "       [0.9998807 ],\n",
       "       [0.9947962 ],\n",
       "       [0.9981406 ],\n",
       "       [0.9986009 ],\n",
       "       [0.99947304],\n",
       "       [0.99482346],\n",
       "       [0.9998901 ],\n",
       "       [0.99997866],\n",
       "       [0.9970829 ],\n",
       "       [0.9949032 ],\n",
       "       [0.9999869 ],\n",
       "       [0.99998224],\n",
       "       [0.8821973 ],\n",
       "       [0.9999629 ],\n",
       "       [0.9999635 ],\n",
       "       [0.9971752 ],\n",
       "       [0.99992406],\n",
       "       [0.9870121 ],\n",
       "       [0.9999964 ],\n",
       "       [0.96566087],\n",
       "       [0.9999683 ],\n",
       "       [0.9999523 ],\n",
       "       [0.99993265],\n",
       "       [0.999943  ],\n",
       "       [0.9687931 ],\n",
       "       [0.9989197 ],\n",
       "       [0.99971527],\n",
       "       [0.9995844 ],\n",
       "       [0.9985487 ],\n",
       "       [0.974034  ],\n",
       "       [0.6809317 ],\n",
       "       [0.8619945 ],\n",
       "       [0.92250323],\n",
       "       [0.6293682 ],\n",
       "       [0.99964046],\n",
       "       [0.9997371 ],\n",
       "       [0.9908502 ],\n",
       "       [0.99990046],\n",
       "       [0.99940073],\n",
       "       [0.9947125 ],\n",
       "       [0.99527645],\n",
       "       [0.99959415],\n",
       "       [0.9999403 ],\n",
       "       [0.9980064 ],\n",
       "       [0.9997868 ],\n",
       "       [0.9970312 ],\n",
       "       [0.9999778 ],\n",
       "       [0.99994385],\n",
       "       [0.9998381 ],\n",
       "       [0.9998982 ],\n",
       "       [0.9999113 ],\n",
       "       [0.9999598 ],\n",
       "       [0.9998299 ],\n",
       "       [0.9950767 ],\n",
       "       [0.94734734]], dtype=float32)"
      ]
     },
     "execution_count": 143,
     "metadata": {},
     "output_type": "execute_result"
    }
   ],
   "source": [
    "PREDS"
   ]
  },
  {
   "cell_type": "code",
   "execution_count": null,
   "metadata": {},
   "outputs": [],
   "source": []
  },
  {
   "cell_type": "code",
   "execution_count": null,
   "metadata": {},
   "outputs": [],
   "source": []
  },
  {
   "cell_type": "code",
   "execution_count": null,
   "metadata": {},
   "outputs": [],
   "source": []
  },
  {
   "cell_type": "code",
   "execution_count": null,
   "metadata": {},
   "outputs": [],
   "source": []
  },
  {
   "cell_type": "code",
   "execution_count": null,
   "metadata": {},
   "outputs": [],
   "source": []
  },
  {
   "cell_type": "code",
   "execution_count": null,
   "metadata": {},
   "outputs": [],
   "source": []
  },
  {
   "cell_type": "code",
   "execution_count": null,
   "metadata": {},
   "outputs": [],
   "source": []
  },
  {
   "cell_type": "code",
   "execution_count": null,
   "metadata": {},
   "outputs": [],
   "source": []
  },
  {
   "cell_type": "code",
   "execution_count": null,
   "metadata": {},
   "outputs": [],
   "source": []
  },
  {
   "cell_type": "code",
   "execution_count": null,
   "metadata": {},
   "outputs": [],
   "source": []
  },
  {
   "cell_type": "code",
   "execution_count": null,
   "metadata": {},
   "outputs": [],
   "source": []
  },
  {
   "cell_type": "code",
   "execution_count": 130,
   "metadata": {},
   "outputs": [],
   "source": [
    "predsFinal = []\n",
    "for X in PREDS:\n",
    "    if(X>=0.5):\n",
    "        predsFinal.append(1)\n",
    "    else:\n",
    "        predsFinal.append(0)\n",
    "    "
   ]
  },
  {
   "cell_type": "code",
   "execution_count": 131,
   "metadata": {},
   "outputs": [
    {
     "data": {
      "text/plain": [
       "390"
      ]
     },
     "execution_count": 131,
     "metadata": {},
     "output_type": "execute_result"
    }
   ],
   "source": [
    "len(l)"
   ]
  },
  {
   "cell_type": "code",
   "execution_count": 132,
   "metadata": {},
   "outputs": [
    {
     "data": {
      "text/plain": [
       "385"
      ]
     },
     "execution_count": 132,
     "metadata": {},
     "output_type": "execute_result"
    }
   ],
   "source": [
    "np.array(predsFinal).sum()"
   ]
  },
  {
   "cell_type": "code",
   "execution_count": 133,
   "metadata": {},
   "outputs": [
    {
     "data": {
      "text/plain": [
       "0.9974358974358974"
      ]
     },
     "execution_count": 133,
     "metadata": {},
     "output_type": "execute_result"
    }
   ],
   "source": [
    "389/390"
   ]
  }
 ],
 "metadata": {
  "kernelspec": {
   "display_name": "Python 3",
   "language": "python",
   "name": "python3"
  },
  "language_info": {
   "codemirror_mode": {
    "name": "ipython",
    "version": 3
   },
   "file_extension": ".py",
   "mimetype": "text/x-python",
   "name": "python",
   "nbconvert_exporter": "python",
   "pygments_lexer": "ipython3",
   "version": "3.7.0"
  }
 },
 "nbformat": 4,
 "nbformat_minor": 1
}
