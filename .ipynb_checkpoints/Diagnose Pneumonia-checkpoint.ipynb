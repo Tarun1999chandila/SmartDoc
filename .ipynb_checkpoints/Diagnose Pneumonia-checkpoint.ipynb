{
 "cells": [
  {
   "cell_type": "code",
   "execution_count": 1,
   "metadata": {
    "_kg_hide-input": true,
    "_kg_hide-output": false,
    "_uuid": "ad8067cc8763f6a885ae10d47209c8d6b64ee71d"
   },
   "outputs": [
    {
     "name": "stderr",
     "output_type": "stream",
     "text": [
      "Using TensorFlow backend.\n"
     ]
    }
   ],
   "source": [
    "import pandas as pd\n",
    "import numpy as np\n",
    "import matplotlib.pyplot as plt\n",
    "import seaborn as sns\n",
    "import cv2\n",
    "import os\n",
    "import random\n",
    "from keras.models import Sequential\n",
    "from keras.layers import Conv2D,Dense,Flatten,Dropout,MaxPooling2D\n",
    "from keras.preprocessing.image import ImageDataGenerator\n",
    "from keras.callbacks import ReduceLROnPlateau\n",
    "\n",
    "%matplotlib inline"
   ]
  },
  {
   "cell_type": "code",
   "execution_count": 3,
   "metadata": {
    "_uuid": "74685969d03262a3c32f861f66bfb6dced942991"
   },
   "outputs": [],
   "source": [
    "total_images_train_normal = os.listdir(r\"/sysroot/home/tarun/easymed/AI_Startup_Prototype/flaskSaaS-master/pneumonia/chest-xray-pneumonia/chest_xray/train/NORMAL\")\n",
    "total_images_train_pneumonia = os.listdir(r\"/sysroot/home/tarun/easymed/AI_Startup_Prototype/flaskSaaS-master/pneumonia/chest-xray-pneumonia/chest_xray/train/PNEUMONIA\")"
   ]
  },
  {
   "cell_type": "code",
   "execution_count": 4,
   "metadata": {
    "_uuid": "42378e75c3a5c20f67129514f6e1205bee2a9934"
   },
   "outputs": [],
   "source": [
    "image_height = 150\n",
    "image_width = 150\n",
    "batch_size = 32\n",
    "no_of_epochs  = 10"
   ]
  },
  {
   "cell_type": "code",
   "execution_count": 5,
   "metadata": {
    "_uuid": "444919bf103234d0313fbf050780a5bdc534eb03"
   },
   "outputs": [
    {
     "name": "stdout",
     "output_type": "stream",
     "text": [
      "WARNING:tensorflow:From /sysroot/home/tarun/anaconda3/lib/python3.7/site-packages/tensorflow/python/framework/op_def_library.py:263: colocate_with (from tensorflow.python.framework.ops) is deprecated and will be removed in a future version.\n",
      "Instructions for updating:\n",
      "Colocations handled automatically by placer.\n",
      "WARNING:tensorflow:From /sysroot/home/tarun/anaconda3/lib/python3.7/site-packages/keras/backend/tensorflow_backend.py:3445: calling dropout (from tensorflow.python.ops.nn_ops) with keep_prob is deprecated and will be removed in a future version.\n",
      "Instructions for updating:\n",
      "Please use `rate` instead of `keep_prob`. Rate should be set to `rate = 1 - keep_prob`.\n"
     ]
    }
   ],
   "source": [
    "model = Sequential()\n",
    "model.add(Conv2D(32,(3,3),input_shape=(image_height,image_width,3),activation='relu'))\n",
    "model.add(Conv2D(32,(3,3),activation='relu'))\n",
    "model.add(MaxPooling2D(pool_size=(2,2)))\n",
    "model.add(Dropout(0.2))\n",
    "model.add(Conv2D(64,(3,3),activation='relu'))\n",
    "model.add(Conv2D(64,(3,3),activation='relu'))\n",
    "model.add(MaxPooling2D(pool_size=(2,2)))\n",
    "model.add(Dropout(0.2))\n",
    "model.add(Conv2D(128,(3,3),activation='relu'))\n",
    "model.add(Conv2D(128,(3,3),activation='relu'))\n",
    "model.add(MaxPooling2D(pool_size=(2,2)))\n",
    "model.add(Dropout(0.2))\n",
    "model.add(Flatten())\n",
    "model.add(Dense(units=128,activation='relu'))\n",
    "model.add(Dropout(0.2))\n",
    "model.add(Dense(units=1,activation='sigmoid'))\n",
    "model.compile(optimizer='adam', loss='binary_crossentropy', metrics=['accuracy'])"
   ]
  },
  {
   "cell_type": "code",
   "execution_count": 6,
   "metadata": {
    "_uuid": "a5acc28340713333a128f2d4fe38a90cde089d0f"
   },
   "outputs": [
    {
     "name": "stdout",
     "output_type": "stream",
     "text": [
      "_________________________________________________________________\n",
      "Layer (type)                 Output Shape              Param #   \n",
      "=================================================================\n",
      "conv2d_1 (Conv2D)            (None, 148, 148, 32)      896       \n",
      "_________________________________________________________________\n",
      "conv2d_2 (Conv2D)            (None, 146, 146, 32)      9248      \n",
      "_________________________________________________________________\n",
      "max_pooling2d_1 (MaxPooling2 (None, 73, 73, 32)        0         \n",
      "_________________________________________________________________\n",
      "dropout_1 (Dropout)          (None, 73, 73, 32)        0         \n",
      "_________________________________________________________________\n",
      "conv2d_3 (Conv2D)            (None, 71, 71, 64)        18496     \n",
      "_________________________________________________________________\n",
      "conv2d_4 (Conv2D)            (None, 69, 69, 64)        36928     \n",
      "_________________________________________________________________\n",
      "max_pooling2d_2 (MaxPooling2 (None, 34, 34, 64)        0         \n",
      "_________________________________________________________________\n",
      "dropout_2 (Dropout)          (None, 34, 34, 64)        0         \n",
      "_________________________________________________________________\n",
      "conv2d_5 (Conv2D)            (None, 32, 32, 128)       73856     \n",
      "_________________________________________________________________\n",
      "conv2d_6 (Conv2D)            (None, 30, 30, 128)       147584    \n",
      "_________________________________________________________________\n",
      "max_pooling2d_3 (MaxPooling2 (None, 15, 15, 128)       0         \n",
      "_________________________________________________________________\n",
      "dropout_3 (Dropout)          (None, 15, 15, 128)       0         \n",
      "_________________________________________________________________\n",
      "flatten_1 (Flatten)          (None, 28800)             0         \n",
      "_________________________________________________________________\n",
      "dense_1 (Dense)              (None, 128)               3686528   \n",
      "_________________________________________________________________\n",
      "dropout_4 (Dropout)          (None, 128)               0         \n",
      "_________________________________________________________________\n",
      "dense_2 (Dense)              (None, 1)                 129       \n",
      "=================================================================\n",
      "Total params: 3,973,665\n",
      "Trainable params: 3,973,665\n",
      "Non-trainable params: 0\n",
      "_________________________________________________________________\n"
     ]
    }
   ],
   "source": [
    "model.summary()"
   ]
  },
  {
   "cell_type": "code",
   "execution_count": 7,
   "metadata": {
    "_uuid": "5f97c13409a227b7762f94a0f7646d84c8833f85"
   },
   "outputs": [],
   "source": [
    "train_datagen = ImageDataGenerator(rescale=1./255,\n",
    "                                   rotation_range=15,\n",
    "                                   shear_range=0.2,\n",
    "                                   zoom_range=0.2\n",
    "                                   )\n",
    "\n",
    "test_datagen = ImageDataGenerator(rescale=1./255)"
   ]
  },
  {
   "cell_type": "code",
   "execution_count": 9,
   "metadata": {
    "_uuid": "df096dd2cc94c3ebbaba129ce0a711da113ac7ae"
   },
   "outputs": [
    {
     "name": "stdout",
     "output_type": "stream",
     "text": [
      "Found 5216 images belonging to 2 classes.\n",
      "Found 624 images belonging to 2 classes.\n",
      "Found 16 images belonging to 2 classes.\n"
     ]
    }
   ],
   "source": [
    "training_set = train_datagen.flow_from_directory(\"/sysroot/home/tarun/easymed/AI_Startup_Prototype/flaskSaaS-master/pneumonia/chest-xray-pneumonia/chest_xray/train/\",\n",
    "                                                 target_size=(image_width, image_height),\n",
    "                                                 batch_size=batch_size,\n",
    "                                                 class_mode='binary')\n",
    "\n",
    "test_set = test_datagen.flow_from_directory(r\"/sysroot/home/tarun/easymed/AI_Startup_Prototype/flaskSaaS-master/pneumonia/chest-xray-pneumonia/chest_xray/test/\",\n",
    "                                            target_size=(image_width, image_height),\n",
    "                                            batch_size=batch_size,\n",
    "                                            class_mode='binary')\n",
    "\n",
    "# Updated part --->\n",
    "val_set = test_datagen.flow_from_directory(r\"/sysroot/home/tarun/easymed/AI_Startup_Prototype/flaskSaaS-master/pneumonia/chest-xray-pneumonia/chest_xray/val/\",\n",
    "                                            target_size=(image_width, image_height),\n",
    "                                            batch_size=1,\n",
    "                                            shuffle=False,\n",
    "                                            class_mode='binary')"
   ]
  },
  {
   "cell_type": "code",
   "execution_count": 10,
   "metadata": {
    "_uuid": "87b05a24cdef21aa5acd4124ec6d9f63e7135c39"
   },
   "outputs": [],
   "source": [
    "reduce_learning_rate = ReduceLROnPlateau(monitor='loss',\n",
    "                                         factor=0.1,\n",
    "                                         patience=2,\n",
    "                                         cooldown=2,\n",
    "                                         min_lr=0.00001,\n",
    "                                         verbose=1)\n",
    "\n",
    "callbacks = [reduce_learning_rate]"
   ]
  },
  {
   "cell_type": "code",
   "execution_count": 19,
   "metadata": {
    "_uuid": "3a492a61c6f3bb3506337aba4dc9d86a62da62dc"
   },
   "outputs": [
    {
     "name": "stdout",
     "output_type": "stream",
     "text": [
      "Epoch 1/10\n",
      "163/163 [==============================] - 23s 143ms/step - loss: 0.2743 - acc: 0.8816 - val_loss: 0.4432 - val_acc: 0.7789\n",
      "Epoch 2/10\n",
      "163/163 [==============================] - 23s 139ms/step - loss: 0.2625 - acc: 0.8982 - val_loss: 0.2918 - val_acc: 0.8789\n",
      "Epoch 3/10\n",
      "163/163 [==============================] - 23s 140ms/step - loss: 0.2497 - acc: 0.8883 - val_loss: 0.2923 - val_acc: 0.8696\n",
      "Epoch 4/10\n",
      "163/163 [==============================] - 23s 138ms/step - loss: 0.2482 - acc: 0.9025 - val_loss: 0.2549 - val_acc: 0.8895\n",
      "Epoch 5/10\n",
      "163/163 [==============================] - 23s 140ms/step - loss: 0.2228 - acc: 0.9012 - val_loss: 0.3835 - val_acc: 0.8684\n",
      "Epoch 6/10\n",
      "163/163 [==============================] - 22s 138ms/step - loss: 0.2229 - acc: 0.9084 - val_loss: 0.3334 - val_acc: 0.8789\n",
      "Epoch 7/10\n",
      "163/163 [==============================] - 23s 140ms/step - loss: 0.2230 - acc: 0.9153 - val_loss: 0.4129 - val_acc: 0.8478\n",
      "Epoch 8/10\n",
      "163/163 [==============================] - 24s 145ms/step - loss: 0.2182 - acc: 0.9104 - val_loss: 0.3511 - val_acc: 0.8789\n",
      "Epoch 9/10\n",
      "163/163 [==============================] - 24s 145ms/step - loss: 0.1851 - acc: 0.9268 - val_loss: 0.2448 - val_acc: 0.8789\n",
      "Epoch 10/10\n",
      "163/163 [==============================] - 24s 148ms/step - loss: 0.2218 - acc: 0.9117 - val_loss: 0.3033 - val_acc: 0.8804\n"
     ]
    }
   ],
   "source": [
    "# history = model.fit_generator(training_set,\n",
    "#                     steps_per_epoch=5216//batch_size,\n",
    "#                     epochs=no_of_epochs,\n",
    "#                     validation_data=test_set,\n",
    "#                     validation_steps=624//batch_size,\n",
    "#                     callbacks=callbacks\n",
    "#                    )\n",
    "\n",
    "#run if u want to train"
   ]
  },
  {
   "cell_type": "code",
   "execution_count": 27,
   "metadata": {},
   "outputs": [],
   "source": [
    "#model.save_weights('model_weights.h5')"
   ]
  },
  {
   "cell_type": "code",
   "execution_count": 12,
   "metadata": {},
   "outputs": [],
   "source": [
    "model.load_weights('model_weights.h5') #pretrained model"
   ]
  },
  {
   "cell_type": "code",
   "execution_count": 13,
   "metadata": {
    "_uuid": "b7fadf1d5649a40a607a2de2979dcd309d89b7cf"
   },
   "outputs": [
    {
     "name": "stdout",
     "output_type": "stream",
     "text": [
      "{'NORMAL': 0, 'PNEUMONIA': 1}\n"
     ]
    }
   ],
   "source": [
    "\n",
    "print(test_set.class_indices)"
   ]
  },
  {
   "cell_type": "code",
   "execution_count": 14,
   "metadata": {},
   "outputs": [],
   "source": [
    "preds = model.predict_generator(test_set, steps = 32)"
   ]
  },
  {
   "cell_type": "code",
   "execution_count": 15,
   "metadata": {},
   "outputs": [],
   "source": [
    "from sklearn.metrics import accuracy_score, f1_score, precision_score, recall_score"
   ]
  },
  {
   "cell_type": "code",
   "execution_count": 16,
   "metadata": {},
   "outputs": [],
   "source": [
    "predsBin = []"
   ]
  },
  {
   "cell_type": "code",
   "execution_count": 17,
   "metadata": {},
   "outputs": [],
   "source": [
    "for x in preds:\n",
    "    if(x>=0.5):\n",
    "        predsBin.append(1)\n",
    "    else:\n",
    "        predsBin.append(0)"
   ]
  },
  {
   "cell_type": "code",
   "execution_count": 18,
   "metadata": {},
   "outputs": [
    {
     "data": {
      "text/plain": [
       "1008"
      ]
     },
     "execution_count": 18,
     "metadata": {},
     "output_type": "execute_result"
    }
   ],
   "source": [
    "len(predsBin)"
   ]
  },
  {
   "cell_type": "code",
   "execution_count": 19,
   "metadata": {},
   "outputs": [
    {
     "data": {
      "text/plain": [
       "[0.2869720009546126, 0.8850806451612904]"
      ]
     },
     "execution_count": 19,
     "metadata": {},
     "output_type": "execute_result"
    }
   ],
   "source": [
    "model.evaluate_generator(test_set, steps = 32)"
   ]
  },
  {
   "cell_type": "code",
   "execution_count": null,
   "metadata": {},
   "outputs": [],
   "source": [
    "#loss is 0.29 accuracy is 0.88"
   ]
  }
 ],
 "metadata": {
  "kernelspec": {
   "display_name": "Python 3",
   "language": "python",
   "name": "python3"
  },
  "language_info": {
   "codemirror_mode": {
    "name": "ipython",
    "version": 3
   },
   "file_extension": ".py",
   "mimetype": "text/x-python",
   "name": "python",
   "nbconvert_exporter": "python",
   "pygments_lexer": "ipython3",
   "version": "3.7.0"
  }
 },
 "nbformat": 4,
 "nbformat_minor": 1
}
